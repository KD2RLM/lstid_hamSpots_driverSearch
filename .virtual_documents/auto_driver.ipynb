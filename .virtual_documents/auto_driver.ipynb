import matplotlib.pyplot as plt
import datetime
import matplotlib as mpl
import numpy as np
from numpy import genfromtxt
import pandas as pd
import datetime
import seaborn as sns
from scipy.stats import pearsonr
import itertools
from scipy.interpolate import make_interp_spline, BSpline
from scipy.interpolate import interp1d
from matplotlib.patches import ConnectionPatch


drive_loc = 'data/'


data = pd.read_csv(drive_loc + 'lstid_driver_full_2017.csv')
data['date'] = pd.to_datetime(data['date'])
data['ae_max'].replace('1,070.00', '1070', inplace=True)
data['ae_max'] = data['ae_max'].astype(float)


reference_time = data['date'].iloc[0]
data['date_s'] = (data['date'] - reference_time).dt.total_seconds()
data['dpv'] = np.gradient(data['pv'], (data['date_s']))
data['dsme'] = np.gradient(data['sme'])


data['amplitude_km'] = data['amplitude_km'].interpolate()
data['T_hr'] = data['T_hr'].interpolate()


T_hr_cmap='rainbow'


data


fig, axs = plt.subplots(3,1,figsize=(20,10)) 
plt.subplots_adjust(hspace=0.5)

vmin            = np.nanmin(data['u_nh'].rolling(3,center=True).mean())
vmax            = np.nanmax(data['u_nh'].rolling(3,center=True).mean())

cmap            = mpl.colormaps.get_cmap('bwr')
norm            = mpl.colors.Normalize(vmin=vmin,vmax=vmax)
mpbl            = mpl.cm.ScalarMappable(norm,cmap)
color           = mpbl.to_rgba(data['u_nh'].rolling(3,center=True).mean())

axs[0].plot(data['date'], data['u_nh'], color = 'black',alpha=0.3)
axs[0].plot(data['date'], data['u_nh'].rolling(3,center=True).mean(), color='black')
axs[0].scatter(data['date'],data['u_nh'].rolling(3,center=True).mean(),marker='o',c=color,alpha=0)
trans           = mpl.transforms.blended_transform_factory( axs[0].transData, axs[0].transAxes)
axs[0].bar(data['date'],1,width=1,color=color,align='edge',zorder=-1,transform=trans,alpha=0.5)
axs[0].set_title('Daily 60N Zonal Winds 2017', fontsize = 20,fontweight = 'bold')
axs[0].set_ylabel('Wind Speed',fontsize = 15)
axs[0].set_xlabel('Day',fontsize = 15)
axs[0].tick_params(labelsize = 15)

vmin            = np.nanmin(data['amplitude_km'].rolling(3,center=True).mean())
vmax            = 50

cmap            = mpl.colormaps.get_cmap(T_hr_cmap)
norm            = mpl.colors.Normalize(vmin=vmin,vmax=vmax)
mpbl            = mpl.cm.ScalarMappable(norm,cmap)
color           = mpbl.to_rgba(data['amplitude_km'].rolling(3,center=True).mean())

axs[1].plot(data['date'], data['amplitude_km'], color = 'black',alpha=0.3)
axs[1].plot(data['date'], data['amplitude_km'].rolling(3,center=True).mean(), color='black')
axs[1].scatter(data['date'],data['amplitude_km'].rolling(3,center=True).mean(),marker='o',c=color,alpha=0)
trans           = mpl.transforms.blended_transform_factory( axs[1].transData, axs[1].transAxes)
axs[1].bar(data['date'],1,width=1,color=color,align='edge',zorder=-1,transform=trans,alpha=0.5)
axs[1].set_title('Daily Disturbance Amplitude 2017', fontsize = 20,fontweight = 'bold')
axs[1].set_ylabel('Amplitude [km]',fontsize = 15)
axs[1].set_xlabel('Day',fontsize = 15)
axs[1].tick_params(labelsize = 15)

vmin            = np.nanmin(data['sme'].rolling(3,center=True).mean())
vmax            = 500

cmap            = mpl.colormaps.get_cmap(T_hr_cmap)
norm            = mpl.colors.Normalize(vmin=vmin,vmax=vmax)
mpbl            = mpl.cm.ScalarMappable(norm,cmap)
color           = mpbl.to_rgba(data['sme'].rolling(3,center=True).mean())

axs[2].plot(data['date'], data['sme'], color = 'black',alpha=0.3)
axs[2].plot(data['date'], data['sme'].rolling(3,center=True).mean(), color='black')
axs[2].scatter(data['date'],data['sme'].rolling(3,center=True).mean(),marker='o',c=color,alpha=0)
trans           = mpl.transforms.blended_transform_factory( axs[2].transData, axs[2].transAxes)
axs[2].bar(data['date'],1,width=1,color=color,align='edge',zorder=-1,transform=trans,alpha=0.5)
axs[2].set_title('DSME',fontsize = 15)
axs[2].set_xlabel('Day',fontsize = 15)
axs[2].tick_params(labelsize = 15)


#fig.savefig(drive_loc + 'filter_value_finder/'+str(oname)+'.png')


fig, axs = plt.subplots(2,1,figsize=(20,10)) 
plt.subplots_adjust(hspace=0.5)

vmin            = np.nanmin(data['amplitude_km'].rolling(3,center=True).mean())
vmax            = np.nanmax(data['amplitude_km'].rolling(3,center=True).mean())

cmap            = mpl.colormaps.get_cmap(T_hr_cmap)
norm            = mpl.colors.Normalize(vmin=vmin,vmax=vmax)
mpbl            = mpl.cm.ScalarMappable(norm,cmap)
color           = mpbl.to_rgba(data['amplitude_km'].rolling(3,center=True).mean())

axs[0].plot(data['date'], data['amplitude_km'], color = 'black',alpha=0.3)
axs[0].plot(data['date'], data['amplitude_km'].rolling(3,center=True).mean(), color='black')
axs[0].scatter(data['date'],data['amplitude_km'].rolling(3,center=True).mean(),marker='o',c=color,alpha=0)
trans           = mpl.transforms.blended_transform_factory( axs[0].transData, axs[0].transAxes)
axs[0].bar(data['date'],1,width=1,color=color,align='edge',zorder=-1,transform=trans,alpha=0.5)
axs[0].set_title('Daily Disturbance Amplitude 2017', fontsize = 20,fontweight = 'bold')
axs[0].set_ylabel('Amplitude [km]',fontsize = 15)
axs[0].set_xlabel('Day',fontsize = 15)
axs[0].tick_params(labelsize = 15)

vmin            = np.nanmin(data['T_hr'].rolling(3,center=True).mean())
vmax            = np.nanmax(data['T_hr'].rolling(3,center=True).mean())

cmap            = mpl.colormaps.get_cmap(T_hr_cmap)
norm            = mpl.colors.Normalize(vmin=vmin,vmax=vmax)
mpbl            = mpl.cm.ScalarMappable(norm,cmap)
color           = mpbl.to_rgba(data['T_hr'].rolling(3,center=True).mean())

axs[1].plot(data['date'], data['T_hr'], color = 'black',alpha=0.3)
axs[1].plot(data['date'], data['T_hr'].rolling(3,center=True).mean(), color='black')
axs[1].scatter(data['date'],data['T_hr'].rolling(3,center=True).mean(),marker='o',c=color,alpha=0)
trans           = mpl.transforms.blended_transform_factory( axs[1].transData, axs[1].transAxes)
axs[1].bar(data['date'],1,width=1,color=color,align='edge',zorder=-1,transform=trans,alpha=0.5)
axs[1].set_title('Daily Disturbance Period 2017', fontsize = 20,fontweight = 'bold')
axs[1].set_ylabel('Period [hr]',fontsize = 15)
axs[1].set_xlabel('Day',fontsize = 15)
axs[1].tick_params(labelsize = 15)


df=data
df.set_index('date',inplace=True)
df_sum = df.resample('M').sum()
df_mean = df.resample('M').mean()


n = 12
index = np.arange(n)
width = 0.4
xLabel = ['Jan', 'Feb', 'Mar', 'Apr', 'May', 'Jun', 'Jul', 'Aug', 'Sep', 'Oct', 'Nov', 'Dec']

fig, ax1 = plt.subplots(figsize=(25, 15))

# Create the first bar plot
ax1.bar(index - 0.2, df_sum['tid'], width=0.4, color='orangered', align='center')
ax1.set_ylabel('Manualy Observed TID Hrs',fontsize=30)
ax1.tick_params(axis='y', labelsize=30)

# Create twin axes for the second bar plot
ax2 = ax1.twinx()
ax2.bar(index + 0.2, df_sum['is_lstid'], width=0.4, align='center')
ax2.set_ylabel('Automated observed TID Days', fontsize=30)
ax2.tick_params(axis='y', labelsize=30)

# Manually set font weight for y-axis tick labels
for label in ax1.get_yticklabels():
    label.set_fontweight('bold')
for label in ax2.get_yticklabels():
    label.set_fontweight('bold')

# Set common labels and title
ax1.set_xlabel('Month', fontsize=30)
ax1.set_xticks(index)
ax1.set_xticklabels(xLabel, fontsize=30, fontweight='bold')
plt.title('Automated vs Manual SinFit Montly Climatology', fontsize=40, fontweight='bold')

# Show plot
plt.show()



