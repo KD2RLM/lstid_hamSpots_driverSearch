import matplotlib.pyplot as plt
import datetime
import matplotlib as mpl
import numpy as np
from numpy import genfromtxt
import pandas as pd
import datetime
import seaborn as sns
from scipy.stats import pearsonr
import itertools
from scipy.interpolate import make_interp_spline, BSpline
from scipy.interpolate import interp1d


drive_loc = 'data/'


data = pd.read_csv(drive_loc + 'lstid_driver_full_2017.csv')
data['date'] = pd.to_datetime(data['date'])
data['ae_max'].replace('1,070.00', '1070', inplace=True)
data['ae_max'] = data['ae_max'].astype(float)
data


reference_time = data['date'].iloc[0]
data['date_s'] = (data['date'] - reference_time).dt.total_seconds()
data['dpv'] = np.gradient(data['pv'], (data['date_s']))
data['dsme'] = np.gradient(data['sme'])


#test = data
#test['dairs'] = np.gradient(test['airs'])
#test1 = test[(test['dairs'] > 0.0004) | (test['dairs'] < -0.0004)]
#test2 = test[test['airs'] > 0.0035]
#test3 = test[test['tid'] > 0]
#plt.scatter(test1['date'], test1['dairs'])
#plt.scatter(test2['date'], test2['airs'])
#plt.bar(test3['date'], test3['tid'])


np.gradient(data['dsme'])


da_fil = data[data['tid'] > 0]
da_fil


def of_name(name):
  if name == 'pv':
    return 'Polar Vortex Index'
  if name == 'ae_max':
    return 'Auroral Electrojet (max)'
  if name == 'ae_slope':
    return 'Auroral Electrojet (Slope)'
  if name == 'dpv':
    return 'Polar Vortex Index Derivative'
  if name == 'u_nh':
    return '60N Zonal Winds'
  if name == 'k_winds':
    return 'Kansas Winds'
  if name == 'sym_h':
    return 'SYM-H'
  if name == 'sme':
    return 'SME'
  if name == 'airs':
    return 'AIRS'
  if name == 'u_slope':
    return '60N Zonal Wind (Slope)'
  if name == 'varea':
    return 'Vortex Area'
  if name == 'dsme':
    return 'DSME'
  if name == 'xrsb_flux':
    return 'GOES 16 XRSB Flux'


def all(df, name):
  if name == 'xrsb_flux':
    da = df[df[name] >= 0.0000005]
    return 'GOES 16 XRSB Flux', da
  if name == 'pv':
    da = df[df[name] >= 100]
    return 'Polar Vortex Index', da
  if name == 'ae_max':
    da = df[df[name] >= 700]
    return 'Auroral Electrojet (max)', da
  if name == 'ae_slope':
    da = df[(df['ae_slope'] >= 250) | (df['ae_slope'] <= -250)]
    return 'Auroral Electrojet (Slope)', da
  if name == 'dpv':
    da = df[(df[name] >= 0.5e-06) | (df[name] <= -0.5e-06)]
    return 'Polar Vortex Index Derivative', da
  if name == 'u_nh':
    da = df[(df[name] >= 50) | (df[name] <= -50)]
    return '60N Zonal Winds', da
  if name == 'k_winds':
    da = df[df[name] > 0]
    return 'Kansas Winds', da
  if name == 'sym_h':
    da = df[df[name] <= -20]
    return 'SYM-H', da
  if name == 'sme':
    da = df[df[name] >= 400]
    return 'SME', da
  if name == 'airs':
    da = df[df[name] >= 0.0035]
    return 'AIRS', da
  if name == 'u_slope':
    da = df[(df[name] >= 5) | (df[name] <= -5)]
    return '60N Zonal Wind (Slope)', da
  if name == 'varea':
    da = df[df[name] >= 10]
    return 'Vortex Area', da
  if name == 'dsme':
    da = df[(df['dsme'] >= 200)]
    return 'DSME', da


def met_check(name):
  if name == 'airs' or name == 'pv' or name == 'dpv' or name == 'k_winds' or name == 'varea' or name == 'u_nh' or name == 'u_slope':
    return True
  else:
    return False


def geo_check(name):
  if name == 'sme' or name == 'dsme' or name == 'ae_max' or name == 'ae_slope' or name == 'sym_h':
    return True
  else:
    return False


# first run: identify filter values
column_names = data.columns.tolist()
# Iterating through two keys simultaneously
for driver in column_names:
  if driver == 'date':
    continue
  if driver == 'date_s':
    continue
  if driver == 'tid':
    continue
  if driver == 'Unnamed: 0':
    continue

  fig, axs = plt.subplots(2,1,figsize=(20,10))
  plt.subplots_adjust(hspace=0.5)

  oname = of_name(driver)

  axs[0].scatter(data['date'], data[driver], color = 'purple')
  axs[0].set_title('Daily '+ str(oname) +' 2017', fontsize = 20,fontweight = 'bold')
  axs[0].set_ylabel(oname,fontsize = 15)
  axs[0].tick_params(labelsize = 15)

  axs[1].scatter(data['date'], data[driver], color = 'black')
  ax2 = axs[1].twinx()
  ax2.bar(data['date'], data['tid'])
  axs[1].set_title('Daily '+str(oname)+' vs TID 2017', fontsize = 20,fontweight = 'bold')
  axs[1].set_ylabel(oname,fontsize = 15)
  axs[1].set_xlabel('Day',fontsize = 15)
  axs[1].tick_params(labelsize = 15)
  ax2.set_ylabel('TID Events',fontsize = 15)
  ax2.tick_params(labelsize = 15)

  fig.savefig(drive_loc + 'filter_value_finder/'+str(oname)+'.png')



# first run: identify filter values
column_names = data.columns.tolist()
# Iterating through two keys simultaneously
for driver in column_names:
  if driver == 'date':
    continue
  if driver == 'date_s':
    continue
  if driver == 'tid':
    continue
  if driver == 'Unnamed: 0':
    continue

  oname, da = all(da_fil, driver)
  oname2, da2  = all(data, driver)

  fig, axs = plt.subplots(3,1,figsize=(20,10))
  plt.subplots_adjust(hspace=0.5)

  axs[0].scatter(data['date'], data[driver], color = 'purple')
  axs[0].set_title('Daily '+ str(oname) +' 2017', fontsize = 20,fontweight = 'bold')
  axs[0].set_ylabel(oname,fontsize = 15)
  axs[0].tick_params(labelsize = 15)

  axs[1].bar(data['date'], data['tid'])
  ax2 = axs[1].twinx()
  ax2.scatter(data['date'], data[driver], color = 'black')
  axs[1].set_title('Daily '+str(oname)+' vs TID 2017', fontsize = 20,fontweight = 'bold')
  axs[1].set_ylabel(oname,fontsize = 15)
  axs[1].set_xlabel('Day',fontsize = 15)
  axs[1].tick_params(labelsize = 15)
  ax2.set_ylabel('TID Events',fontsize = 15)
  ax2.tick_params(labelsize = 15)

  axs[2].scatter(da2['date'], da2[driver], color = 'black')
  ax2 = axs[2].twinx()
  ax2.bar(data['date'], data['tid'])
  axs[2].set_title('Daily '+str(oname)+' vs TID 2017', fontsize = 20,fontweight = 'bold')
  axs[2].set_ylabel(oname,fontsize = 15)
  axs[2].set_xlabel('Day',fontsize = 15)
  axs[2].tick_params(labelsize = 15)
  ax2.set_ylabel('TID Events',fontsize = 15)
  ax2.tick_params(labelsize = 15)
  for index, value in da['date'].items():
    start = value
    end   = value + datetime.timedelta(days=1)
    axs[2].axvspan(start, start, color='grey', alpha=0.4, linewidth=3)

  fig.savefig(drive_loc + 'driver_highlighted/'+str(oname)+'.png')


# Create a scatter plot
plt.scatter(data['date'], data['sme'], label='Data')


# Calculate the rolling mean
window_size = 7

# Drop the NaN values
#df = df.dropna()

# Plot the rolling mean
plt.plot(data['date'], data['sme'].rolling(window=window_size).mean(), color='red', label='Rolling Mean')

# Add labels and legend
plt.xlabel('X')
plt.ylabel('Y')
plt.legend()
plt.title('Scatter Plot with Rolling Mean')

# Show the plot
plt.show()


driver = 'dsme'

oname, da = all(da_fil, driver)

fig, axs = plt.subplots(3,1,figsize=(20,10))
plt.subplots_adjust(hspace=0.5)

axs[0].scatter(data['date'], data[driver], color = 'purple')
axs[0].set_title('Daily '+ str(oname) +' 2017', fontsize = 20,fontweight = 'bold')
axs[0].set_ylabel(oname,fontsize = 15)
axs[0].tick_params(labelsize = 15)

axs[1].scatter(data['date'], data[driver], color = 'black')
ax2 = axs[1].twinx()
ax2.bar(data['date'], data['tid'])
axs[1].plot(data['date'], data['dsme'].rolling(window=window_size).mean(), color='red', label='Rolling Mean')
axs[1].set_title('Daily '+str(oname)+' vs TID 2017', fontsize = 20,fontweight = 'bold')
axs[1].set_ylabel(oname,fontsize = 15)
axs[1].set_xlabel('Day',fontsize = 15)
axs[1].tick_params(labelsize = 15)
ax2.set_ylabel('TID Events',fontsize = 15)
ax2.tick_params(labelsize = 15)

axs[2].scatter(da['date'], da[driver], color = 'black')
ax2 = axs[2].twinx()
ax2.bar(data['date'], data['tid'])
axs[2].set_title('Daily '+str(oname)+' vs TID 2017', fontsize = 20,fontweight = 'bold')
axs[2].set_ylabel(oname,fontsize = 15)
axs[2].set_xlabel('Day',fontsize = 15)
axs[2].tick_params(labelsize = 15)
ax2.set_ylabel('TID Events',fontsize = 15)
ax2.tick_params(labelsize = 15)
for index, value in da['date'].items():
  start = value
  end   = value + datetime.timedelta(days=1)
  axs[2].axvspan(start, start, color='grey', alpha=0.4, linewidth=3)


driver = 'airs'

oname, da = all(da_fil, driver)
oname2, da2  = all(data, driver)

start_date = pd.to_datetime('2017-05-01')
end_date = pd.to_datetime('2017-10-01')

fig, axs = plt.subplots(3,1,figsize=(20,10))
plt.subplots_adjust(hspace=0.5)

axs[0].scatter(data['date'], data[driver], color = 'purple')
axs[0].set_title('Daily '+ str(oname) +' 2017', fontsize = 20,fontweight = 'bold')
axs[0].set_ylabel(oname,fontsize = 15)
axs[0].tick_params(labelsize = 15)
axs[0].set_xlim(start_date, end_date)
axs[0].set_ylim(0, 0.005)

axs[1].scatter(data['date'], data[driver], color = 'black', zorder=0)
ax2 = axs[1].twinx()
ax2.bar(data['date'], data['tid'],zorder=1)
#axs[1].plot(data['date'], data[driver].rolling(window=window_size).mean(), color='red', label='Rolling Mean',zorder=2)
axs[1].set_title('Daily '+str(oname)+' vs TID 2017', fontsize = 20,fontweight = 'bold')
axs[1].set_ylabel(oname,fontsize = 15)
axs[1].set_xlabel('Day',fontsize = 15)
axs[1].tick_params(labelsize = 15)
ax2.set_ylabel('TID Events',fontsize = 15)
ax2.tick_params(labelsize = 15)
axs[1].set_xlim(start_date, end_date)
axs[1].set_ylim(0, 0.005)

da = da.reset_index()

axs[2].scatter(da2['date'], da2[driver], color = 'black')
ax2 = axs[2].twinx()
ax2.bar(data['date'], data['tid'])
axs[2].set_title('Daily '+str(oname)+' vs TID 2017 (filtered by values > 0.004) (grey = filtered value on TID day)', fontsize = 20,fontweight = 'bold')
axs[2].set_ylabel(oname,fontsize = 15)
axs[2].set_xlabel('Day',fontsize = 15)
axs[2].tick_params(labelsize = 15)
ax2.set_ylabel('TID Events',fontsize = 15)
ax2.tick_params(labelsize = 15)
for index, value in da['date'].items():
  start = value
  end   = value + datetime.timedelta(days=1)
  axs[2].axvspan(start, start, color='grey', alpha=0.4, linewidth=3)
axs[2].set_xlim(start_date, end_date)
axs[2].set_ylim(0, 0.005)


# Group by month
per_da_geo = []
per_da_met = []
data_fil = da_fil
data_fil.set_index('date', inplace=True)
column_names = data.columns.tolist()
grouped = data_fil.resample('M')
monthly_dfs = {name.strftime('%b'): group for name, group in grouped}
month = ['Jan', 'Feb', 'Mar', 'Apr', 'May', 'Jun', 'Jul', 'Aug', 'Sep', 'Oct', 'Nov', 'Dec']
for month_name in month:
  for driver in column_names:
    if driver == 'date':
      continue
    if driver == 'date_s':
      continue
    if driver == 'tid':
      continue
    if driver == 'Unnamed: 0':
      continue
    if driver == 'xrsb_flux':
      continue
    da = monthly_dfs[month_name]
    num_tid = np.shape(da)
    da = all(da, driver)
    num_rows = np.shape(da[1])
    percent = num_rows[0]/num_tid[0]*100
    if geo_check(driver):
      per_da_geo.append({'month': month_name, 'driver': driver, 'percent': percent})
    if met_check(driver):
      per_da_met.append({'month': month_name, 'driver': driver, 'percent': percent})

per_da_met = pd.DataFrame(per_da_met, columns=['month', 'driver', 'percent'])
per_da_geo = pd.DataFrame(per_da_geo, columns=['month', 'driver', 'percent'])

per_da_met.set_index(['month', 'driver'], inplace=True)
per_da_geo.set_index(['month', 'driver'], inplace=True)


#per_data = per_da_met.reset_index()

# Create a scatter plot
plt.figure(figsize=(20, 5))

# Scatter plot with automatic default colors
sns.stripplot(data=per_da_met, x='month', y='percent', hue='driver', palette='bright',s=15, alpha=0.7, jitter=True)

# Create a legend
plt.legend(title='Driver', bbox_to_anchor=(1, 1), loc='upper left', fontsize = 15)

plt.xlabel('Month',fontsize = 15)
plt.ylabel('Percent',fontsize = 15)
plt.title('Montly Meteorological Driver Percentage (w/ jitter)',fontsize = 20, fontweight = 'bold')
plt.tick_params(labelsize = 15)
plt.grid(True)
plt.show()


#per_data = per_da_met.reset_index()

# Create a scatter plot
plt.figure(figsize=(20, 5))

# Scatter plot with automatic default colors
sns.stripplot(data=per_da_geo, x='month', y='percent', hue='driver', palette='bright',s=15, alpha=0.7, jitter=True)

plt.legend(title='Driver', bbox_to_anchor=(1, 1), loc='upper left', fontsize = 15)

plt.xlabel('Month',fontsize = 15)
plt.ylabel('Percent',fontsize = 15)
plt.title('Montly Geospace Driver Percentage (w/ jitter)',fontsize = 20, fontweight = 'bold')
plt.tick_params(labelsize = 15)
plt.ylim(-5,105)
plt.grid(True)
plt.show()


def calculate_percent(df, da):
  num_tid = np.shape(df)
  num_rows = np.shape(da)
  percent = num_rows[0]/num_tid[0]*100
  return percent


# Group by month
per_da_geo = []
per_da_met = []
data_fil = da_fil
#data_fil.set_index('date', inplace=True)
column_names = data.columns.tolist()
grouped = data_fil.resample('M')
monthly_dfs = {name.strftime('%b'): group for name, group in grouped}
month = ['Jan', 'Feb', 'Mar', 'Apr', 'May', 'Jun', 'Jul', 'Aug', 'Sep', 'Oct', 'Nov', 'Dec']
for month_name in month:
  mon_geo = pd.DataFrame()
  mon_met = pd.DataFrame()
  for driver in column_names:
    if driver == 'date':
      continue
    if driver == 'date_s':
      continue
    if driver == 'tid':
      continue
    if driver == 'Unnamed: 0':
      continue
    if driver == 'xrsb_flux':
      continue
    da = monthly_dfs[month_name]
#    da = da[da['xrsb_flux'] <= 0.0000005]
    if geo_check(driver):
      da = all(da, driver)
      mon_geo = pd.concat([mon_geo, da[1]])
    if met_check(driver):
      da = all(da, driver)
      mon_met = pd.concat([mon_met, da[1]])
  mon_geo = mon_geo.drop_duplicates()
  mon_met = mon_met.drop_duplicates()
  per_geo = calculate_percent(monthly_dfs[month_name], mon_geo)
  per_met = calculate_percent(monthly_dfs[month_name], mon_met)
  per_da_geo.append({'month': month_name, 'percent': per_geo})
  per_da_met.append({'month': month_name, 'percent': per_met})

per_da_met = pd.DataFrame(per_da_met, columns=['month', 'percent'])
per_da_geo = pd.DataFrame(per_da_geo, columns=['month', 'percent'])
per_da_met.set_index(['month'], inplace=True)
per_da_geo.set_index(['month'], inplace=True)


# Create a scatter plot
plt.figure(figsize=(20, 5))

# Scatter plot with automatic default colors
plt.scatter(per_da_met.index, per_da_met['percent'], label='Met',s=150, alpha=0.7)
plt.scatter(per_da_geo.index, per_da_geo['percent'], label='Geo',s=150, alpha=0.7)

plt.legend(title='Driver', bbox_to_anchor=(1, 1), loc='upper left', fontsize = 15)

plt.xlabel('Month',fontsize = 15)
plt.ylabel('Percent',fontsize = 15)
plt.title('Montly Combined Meteorological vs Geospace Driver Percentage',fontsize = 20, fontweight = 'bold')
plt.tick_params(labelsize = 15)
plt.grid(True)
plt.show()
