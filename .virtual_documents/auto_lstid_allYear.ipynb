import matplotlib.pyplot as plt
import datetime
import matplotlib as mpl
import numpy as np
from numpy import genfromtxt
import pandas as pd
import datetime
import seaborn as sns
from scipy.stats import pearsonr
import itertools
from scipy.interpolate import make_interp_spline, BSpline
from scipy.interpolate import interp1d
from matplotlib.patches import ConnectionPatch


drive_loc = 'data/'


data = pd.read_csv(drive_loc + '20160101-20160101_allSinFits.csv',index_col=0)


data


df = data[data['selected']==True]
df.index = pd.to_datetime(df.index)


df_2016 = df.loc['2016-01-01':'2016-12-31']
df_2017 = df.loc['2017-01-01':'2017-12-31']
df_2018 = df.loc['2018-01-01':'2018-12-31']
df_2019 = df.loc['2019-01-01':'2019-12-31']
df_2020 = df.loc['2020-01-01':'2020-12-31']
df_2021 = df.loc['2021-01-01':'2021-12-31']
df_2022 = df.loc['2022-01-01':'2022-12-31']
df_2023 = df.loc['2023-01-01':'2023-12-31']
df_2022


years = df.index.year.unique()

# Initialize an empty list to store DataFrames
df_list = []

# Loop through each year and slice the DataFrame
for year in years:
    df_year = df.loc[df.index.year == year]
    df_list.append(df_year)


n = 12
index = np.arange(n)
width = 0.4
xLabel = ['Jan', 'Feb', 'Mar', 'Apr', 'May', 'Jun', 'Jul', 'Aug', 'Sep', 'Oct', 'Nov', 'Dec']

plt.figure(figsize=(25, 15))

n_years = len(years)

bar_width = 0.8 / n_years

for i, year in enumerate(years):

    if year == 2022:
        continue
    if year == 2023:
        continue
    x_pos = index + i * bar_width
    df_year = df_list[i]
    monthly_amplitude = df_year.resample('M').mean()['amplitude_km']
    plt.bar(x_pos, monthly_amplitude, width=bar_width, label=f'{year}', alpha=0.7)

plt.xlabel('Month', fontsize=30)
plt.ylabel('Average Amplitude (km)', fontsize=30)
plt.title('Monthly Disturbance Amplitude by Year', fontsize=40, fontweight='bold')
plt.yticks(fontsize=30, fontweight='bold')
plt.legend(title='Year', fontsize=18, title_fontsize='18')
plt.xticks(index + bar_width * (n_years / 2) - bar_width / 2, xLabel, rotation=45, fontsize=30, fontweight='bold')
plt.tight_layout()




fig, axs = plt.subplots(n_years-2,1,figsize=(20,30)) 
plt.subplots_adjust(hspace=0.5)

for i, year in enumerate(years):

    if year == 2022:
        continue
    if year == 2023:
        continue
    T_hr_cmap       = 'rainbow'
    df_year         = df_list[i]
    vmin            = np.nanmin(df_year['amplitude_km'].rolling(3,center=True).mean())
#    vmax            = np.nanmax(df_year['amplitude_km'].rolling(3,center=True).mean())
    vmax            = 50
#    vmin            = 10
    
    cmap            = mpl.colormaps.get_cmap(T_hr_cmap)
    norm            = mpl.colors.Normalize(vmin=vmin,vmax=vmax)
    mpbl            = mpl.cm.ScalarMappable(norm,cmap)
    color           = mpbl.to_rgba(df_year['amplitude_km'].rolling(3,center=True).mean())

    axs[i].plot(df_year.index, df_year['amplitude_km'], color = 'black',alpha=0.3,label='Raw Data')
    axs[i].plot(df_year.index, df_year['amplitude_km'].rolling(3,center=True).mean(), color='black', label='3 Day Rolling Mean')
    axs[i].scatter(df_year.index,df_year['amplitude_km'].rolling(3,center=True).mean(),marker='o',c=color,alpha=0)
    trans           = mpl.transforms.blended_transform_factory( axs[i].transData, axs[i].transAxes)
    axs[i].bar(df_year.index,1,width=1,color=color,align='edge',zorder=-1,transform=trans,alpha=0.5)
    axs[i].set_title(f'Daily Disturbance Amplitude {year}', fontsize = 20,fontweight = 'bold')
    axs[i].set_ylabel('Amplitude [km]',fontsize = 15)
    axs[i].set_xlabel('Day',fontsize = 15)
    axs[i].tick_params(labelsize = 15)
    axs[i].legend()


fig, axs = plt.subplots(n_years-2,1,figsize=(20,30)) 
plt.subplots_adjust(hspace=0.5)

for i, year in enumerate(years):

    if year == 2022:
        continue
    if year == 2023:
        continue
    param           = 'T_hr'
    T_hr_cmap       = 'rainbow'
    df_year         = df_list[i]
#    vmin            = np.nanmin(df_year[param ].rolling(3,center=True).mean())
#    vmax            = np.nanmax(df_year[param ].rolling(3,center=True).mean())
    vmax            = 5
    vmin            = 1
    
    cmap            = mpl.colormaps.get_cmap(T_hr_cmap)
    norm            = mpl.colors.Normalize(vmin=vmin,vmax=vmax)
    mpbl            = mpl.cm.ScalarMappable(norm,cmap)
    color           = mpbl.to_rgba(df_year[param ].rolling(3,center=True).mean())

    axs[i].plot(df_year.index, df_year[param ], color = 'black',alpha=0.3, label='Raw Data')
    axs[i].plot(df_year.index, df_year[param].rolling(3,center=True).mean(), color='black', label='3 Day Rolling Mean')
    axs[i].scatter(df_year.index,df_year[param].rolling(3,center=True).mean(),marker='o',c=color,alpha=0)
    trans           = mpl.transforms.blended_transform_factory( axs[i].transData, axs[i].transAxes)
    axs[i].bar(df_year.index,1,width=1,color=color,align='edge',zorder=-1,transform=trans,alpha=0.5)
    axs[i].set_title(f'Daily Disturbance Period {year}', fontsize = 20,fontweight = 'bold')
    axs[i].set_ylabel('Period [hr]',fontsize = 15)
    axs[i].set_xlabel('Day',fontsize = 15)
    axs[i].tick_params(labelsize = 15)
    axs[i].legend()



